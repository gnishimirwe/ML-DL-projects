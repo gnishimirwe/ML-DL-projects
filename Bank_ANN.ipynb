{
  "nbformat": 4,
  "nbformat_minor": 0,
  "metadata": {
    "colab": {
      "name": "Bank ANN.ipynb",
      "provenance": [],
      "collapsed_sections": [
        "k4RLxpU067zd",
        "YcjWgZ8OJ7Oz",
        "emnC0TpfSf5k"
      ],
      "authorship_tag": "ABX9TyMUvoYqDZ9oAADUMvt0r1cU",
      "include_colab_link": true
    },
    "kernelspec": {
      "name": "python3",
      "display_name": "Python 3"
    },
    "language_info": {
      "name": "python"
    }
  },
  "cells": [
    {
      "cell_type": "markdown",
      "metadata": {
        "id": "view-in-github",
        "colab_type": "text"
      },
      "source": [
        "<a href=\"https://colab.research.google.com/github/gnishimirwe/ML-DL-projects/blob/main/Bank_ANN.ipynb\" target=\"_parent\"><img src=\"https://colab.research.google.com/assets/colab-badge.svg\" alt=\"Open In Colab\"/></a>"
      ]
    },
    {
      "cell_type": "code",
      "execution_count": null,
      "metadata": {
        "colab": {
          "base_uri": "https://localhost:8080/"
        },
        "id": "iMeK37TPGii9",
        "outputId": "0b18e7ae-d3ca-49b3-b9e9-ed52ce51d5f5"
      },
      "outputs": [
        {
          "output_type": "stream",
          "name": "stdout",
          "text": [
            "Mounted at /content/drive\n"
          ]
        }
      ],
      "source": [
        "from google.colab import drive\n",
        "drive.mount('/content/drive')"
      ]
    },
    {
      "cell_type": "code",
      "source": [
        "import pandas as pd\n",
        "import numpy as np\n",
        "import matplotlib.pyplot as plt\n",
        "import seaborn as sns"
      ],
      "metadata": {
        "id": "4sKJ6wo9K0tB"
      },
      "execution_count": null,
      "outputs": []
    },
    {
      "cell_type": "markdown",
      "source": [
        "# **EDA**"
      ],
      "metadata": {
        "id": "k4RLxpU067zd"
      }
    },
    {
      "cell_type": "code",
      "source": [
        "bank= pd.read_csv('/content/drive/MyDrive/bank-full.csv', sep=';') \n",
        "bank.head()"
      ],
      "metadata": {
        "id": "nLh7DoqeK3jB"
      },
      "execution_count": null,
      "outputs": []
    },
    {
      "cell_type": "code",
      "source": [
        "bank.shape"
      ],
      "metadata": {
        "id": "ek2Ufaa8Lm8Y"
      },
      "execution_count": null,
      "outputs": []
    },
    {
      "cell_type": "code",
      "source": [
        "bank.info()"
      ],
      "metadata": {
        "id": "QYqxrceOLwTm"
      },
      "execution_count": null,
      "outputs": []
    },
    {
      "cell_type": "code",
      "source": [
        "bank.isnull().sum()[bank.isnull().sum()>0]"
      ],
      "metadata": {
        "id": "Y5cZcW_hFJbo"
      },
      "execution_count": null,
      "outputs": []
    },
    {
      "cell_type": "code",
      "source": [
        "bank.select_dtypes(include='object')"
      ],
      "metadata": {
        "id": "EEanBPtfL2FG"
      },
      "execution_count": null,
      "outputs": []
    },
    {
      "cell_type": "code",
      "source": [
        "from sklearn.preprocessing import LabelEncoder, MultiLabelBinarizer\n",
        "le= LabelEncoder()"
      ],
      "metadata": {
        "id": "xNTGUZaPOFi5"
      },
      "execution_count": null,
      "outputs": []
    },
    {
      "cell_type": "code",
      "source": [
        "bank['default']= le.fit_transform(bank['default'])\n",
        "bank['housing']= le.fit_transform(bank['housing'])\n",
        "bank['loan']= le.fit_transform(bank['loan'])\n",
        "bank['y']= le.fit_transform(bank['y'])\n",
        "#bank['month']= le.fit_transform(bank['month'])\n",
        "bank['education']= le.fit_transform(bank['education'])\n",
        "'''columns=['default','housing','loan','y']\n",
        "for i in columns:\n",
        "  bank[i]= le.fit_transform(bank[i])'''"
      ],
      "metadata": {
        "id": "NkRa0j8wPc__"
      },
      "execution_count": null,
      "outputs": []
    },
    {
      "cell_type": "code",
      "source": [
        "bank['pdays']= bank['pdays'].replace(to_replace=-1,value=0)\n",
        "bank['pdays'].value_counts()"
      ],
      "metadata": {
        "id": "Fsl41bA5PXj8"
      },
      "execution_count": null,
      "outputs": []
    },
    {
      "cell_type": "code",
      "source": [
        "bank['poutcome'].value_counts()"
      ],
      "metadata": {
        "id": "P7B0-Kh3_kr-"
      },
      "execution_count": null,
      "outputs": []
    },
    {
      "cell_type": "code",
      "source": [
        "bank= bank.drop(columns='contact')"
      ],
      "metadata": {
        "id": "4sJ6IVP0ETPk"
      },
      "execution_count": null,
      "outputs": []
    },
    {
      "cell_type": "code",
      "source": [
        "bank= pd.get_dummies(bank, drop_first=True)"
      ],
      "metadata": {
        "id": "Qzpjq4dVDz76"
      },
      "execution_count": null,
      "outputs": []
    },
    {
      "cell_type": "code",
      "source": [
        "'''\n",
        "month_labels = {'jan':1,'feb':2, 'mar':3, 'apr':4, 'may':5 , 'jun':6, 'jul': 7, 'aug' :8,\n",
        "                 'sep': 9, 'oct': 10, 'nov': 11, 'dec': 12}\n",
        "bank.month= bank.month.map(month_labels)'''"
      ],
      "metadata": {
        "id": "NzeNYXpX_gvI"
      },
      "execution_count": null,
      "outputs": []
    },
    {
      "cell_type": "code",
      "source": [
        "bank.head()"
      ],
      "metadata": {
        "id": "YhH3Yrip6eCE"
      },
      "execution_count": null,
      "outputs": []
    },
    {
      "cell_type": "code",
      "source": [
        "plt.figure(figsize=(9,5), dpi=100)\n",
        "plt.xticks(rotation=90)\n",
        "plt.title('Correlation with target')\n",
        "sns.barplot(y=bank.corr()['y'].sort_values()[:-1], \n",
        "            x=bank.corr()['y'].sort_values()[:-1].index);"
      ],
      "metadata": {
        "id": "HO8obfmIEe2Q"
      },
      "execution_count": null,
      "outputs": []
    },
    {
      "cell_type": "code",
      "source": [
        "bank['y'].value_counts()"
      ],
      "metadata": {
        "id": "l7D0MsXVIRFI"
      },
      "execution_count": null,
      "outputs": []
    },
    {
      "cell_type": "code",
      "source": [
        "ax=sns.countplot(x='y',data=bank)\n",
        "total = float(len(bank))\n",
        "for p in ax.patches:\n",
        "    percentage = '{:.1f}%'.format(100 * p.get_height()/total)\n",
        "    x = p.get_x() + p.get_width()\n",
        "    y = p.get_height()\n",
        "    ax.annotate(percentage, (x, y),ha='center')"
      ],
      "metadata": {
        "id": "rgsgvHHtJN6j"
      },
      "execution_count": null,
      "outputs": []
    },
    {
      "cell_type": "markdown",
      "source": [
        "# **BALANCING DATA** "
      ],
      "metadata": {
        "id": "YcjWgZ8OJ7Oz"
      }
    },
    {
      "cell_type": "code",
      "source": [
        "from imblearn.over_sampling import SMOTE\n",
        "ovs= SMOTE()"
      ],
      "metadata": {
        "id": "7OjFqyO8JWAR"
      },
      "execution_count": null,
      "outputs": []
    },
    {
      "cell_type": "code",
      "source": [
        "x= bank.drop(columns='y')\n",
        "y= bank['y']"
      ],
      "metadata": {
        "id": "ZFwXHrsMJp4q"
      },
      "execution_count": null,
      "outputs": []
    },
    {
      "cell_type": "code",
      "source": [
        "x,y= ovs.fit_resample(x,y)\n",
        "\n",
        "bank_df=x\n",
        "bank_df['target']= y"
      ],
      "metadata": {
        "id": "xDo6eHfcJ5B6"
      },
      "execution_count": null,
      "outputs": []
    },
    {
      "cell_type": "code",
      "source": [
        "ax=sns.countplot(x='target',data=bank_df)\n",
        "total = float(len(bank_df))\n",
        "for p in ax.patches:\n",
        "    percentage = '{:.1f}%'.format(100 * p.get_height()/total)\n",
        "    x = p.get_x() + p.get_width()\n",
        "    y = p.get_height()\n",
        "    ax.annotate(percentage, (x, y),ha='center')"
      ],
      "metadata": {
        "colab": {
          "base_uri": "https://localhost:8080/"
        },
        "id": "EFqjSFREK1Tb",
        "outputId": "a72609f7-22f3-4a83-e9ae-8f220aae4a94"
      },
      "execution_count": null,
      "outputs": [
        {
          "output_type": "display_data",
          "data": {
            "text/plain": [
              "<Figure size 432x288 with 1 Axes>"
            ],
            "image/png": "[encoded data removed]"
          },
          "metadata": {
            "needs_background": "light"
          }
        }
      ]
    },
    {
      "cell_type": "code",
      "source": [
        "bank_df.shape, bank.shape"
      ],
      "metadata": {
        "colab": {
          "base_uri": "https://localhost:8080/"
        },
        "id": "HtlP5z8SLDiX",
        "outputId": "1f5a7cc6-6358-493d-fe62-37ac30234d32"
      },
      "execution_count": null,
      "outputs": [
        {
          "output_type": "execute_result",
          "data": {
            "text/plain": [
              "((79844, 39), (45211, 39))"
            ]
          },
          "metadata": {},
          "execution_count": 27
        }
      ]
    },
    {
      "cell_type": "code",
      "source": [
        "bank_df.describe()"
      ],
      "metadata": {
        "colab": {
          "base_uri": "https://localhost:8080/"
        },
        "id": "FNCpU01yQmrr",
        "outputId": "e917ea74-d6e5-49ad-fbcd-1708a9a09626"
      },
      "execution_count": null,
      "outputs": [
        {
          "output_type": "execute_result",
          "data": {
            "text/plain": [
              "                age     education       default        balance       housing  \\\n",
              "count  79844.000000  79844.000000  79844.000000   79844.000000  79844.000000   \n",
              "mean      40.910413      1.151182      0.010683    1534.934021      0.386466   \n",
              "std       10.909694      0.698881      0.102807    3145.825331      0.486943   \n",
              "min       18.000000      0.000000      0.000000   -8019.000000      0.000000   \n",
              "25%       32.000000      1.000000      0.000000     122.000000      0.000000   \n",
              "50%       39.000000      1.000000      0.000000     555.500000      0.000000   \n",
              "75%       48.000000      2.000000      0.000000    1733.000000      1.000000   \n",
              "max       95.000000      3.000000      1.000000  102127.000000      1.000000   \n",
              "\n",
              "               loan           day      duration      campaign         pdays  \\\n",
              "count  79844.000000  79844.000000  79844.000000  79844.000000  79844.000000   \n",
              "mean       0.096012     15.311871    378.827451      2.352725     52.035181   \n",
              "std        0.294610      7.822697    349.121374      2.577344    107.100686   \n",
              "min        0.000000      1.000000      0.000000      1.000000      0.000000   \n",
              "25%        0.000000      9.000000    145.000000      1.000000      0.000000   \n",
              "50%        0.000000     15.000000    260.000000      2.000000      0.000000   \n",
              "75%        0.000000     21.000000    506.000000      3.000000     40.000000   \n",
              "max        1.000000     31.000000   4918.000000     63.000000    871.000000   \n",
              "\n",
              "       ...     month_jun     month_mar     month_may     month_nov  \\\n",
              "count  ...  79844.000000  79844.000000  79844.000000  79844.000000   \n",
              "mean   ...      0.072241      0.007665      0.191661      0.053504   \n",
              "std    ...      0.258888      0.087214      0.393610      0.225038   \n",
              "min    ...      0.000000      0.000000      0.000000      0.000000   \n",
              "25%    ...      0.000000      0.000000      0.000000      0.000000   \n",
              "50%    ...      0.000000      0.000000      0.000000      0.000000   \n",
              "75%    ...      0.000000      0.000000      0.000000      0.000000   \n",
              "max    ...      1.000000      1.000000      1.000000      1.000000   \n",
              "\n",
              "          month_oct     month_sep  poutcome_other  poutcome_success  \\\n",
              "count  79844.000000  79844.000000    79844.000000      79844.000000   \n",
              "mean       0.012136      0.008654        0.026502          0.061570   \n",
              "std        0.109494      0.092626        0.160623          0.240375   \n",
              "min        0.000000      0.000000        0.000000          0.000000   \n",
              "25%        0.000000      0.000000        0.000000          0.000000   \n",
              "50%        0.000000      0.000000        0.000000          0.000000   \n",
              "75%        0.000000      0.000000        0.000000          0.000000   \n",
              "max        1.000000      1.000000        1.000000          1.000000   \n",
              "\n",
              "       poutcome_unknown        target  \n",
              "count      79844.000000  79844.000000  \n",
              "mean           0.732303      0.500000  \n",
              "std            0.442762      0.500003  \n",
              "min            0.000000      0.000000  \n",
              "25%            0.000000      0.000000  \n",
              "50%            1.000000      0.500000  \n",
              "75%            1.000000      1.000000  \n",
              "max            1.000000      1.000000  \n",
              "\n",
              "[8 rows x 39 columns]"
            ],
            "text/html": [
              "\n",
              "  <div id=\"df-524de963-0117-4741-af1d-1501514a69c8\">\n",
              "    <div class=\"colab-df-container\">\n",
              "      <div>\n",
              "<style scoped>\n",
              "    .dataframe tbody tr th:only-of-type {\n",
              "        vertical-align: middle;\n",
              "    }\n",
              "\n",
              "    .dataframe tbody tr th {\n",
              "        vertical-align: top;\n",
              "    }\n",
              "\n",
              "    .dataframe thead th {\n",
              "        text-align: right;\n",
              "    }\n",
              "</style>\n",
              "<table border=\"1\" class=\"dataframe\">\n",
              "  <thead>\n",
              "    <tr style=\"text-align: right;\">\n",
              "      <th></th>\n",
              "      <th>age</th>\n",
              "      <th>education</th>\n",
              "      <th>default</th>\n",
              "      <th>balance</th>\n",
              "      <th>housing</th>\n",
              "      <th>loan</th>\n",
              "      <th>day</th>\n",
              "      <th>duration</th>\n",
              "      <th>campaign</th>\n",
              "      <th>pdays</th>\n",
              "      <th>...</th>\n",
              "      <th>month_jun</th>\n",
              "      <th>month_mar</th>\n",
              "      <th>month_may</th>\n",
              "      <th>month_nov</th>\n",
              "      <th>month_oct</th>\n",
              "      <th>month_sep</th>\n",
              "      <th>poutcome_other</th>\n",
              "      <th>poutcome_success</th>\n",
              "      <th>poutcome_unknown</th>\n",
              "      <th>target</th>\n",
              "    </tr>\n",
              "  </thead>\n",
              "  <tbody>\n",
              "    <tr>\n",
              "      <th>count</th>\n",
              "      <td>79844.000000</td>\n",
              "      <td>79844.000000</td>\n",
              "      <td>79844.000000</td>\n",
              "      <td>79844.000000</td>\n",
              "      <td>79844.000000</td>\n",
              "      <td>79844.000000</td>\n",
              "      <td>79844.000000</td>\n",
              "      <td>79844.000000</td>\n",
              "      <td>79844.000000</td>\n",
              "      <td>79844.000000</td>\n",
              "      <td>...</td>\n",
              "      <td>79844.000000</td>\n",
              "      <td>79844.000000</td>\n",
              "      <td>79844.000000</td>\n",
              "      <td>79844.000000</td>\n",
              "      <td>79844.000000</td>\n",
              "      <td>79844.000000</td>\n",
              "      <td>79844.000000</td>\n",
              "      <td>79844.000000</td>\n",
              "      <td>79844.000000</td>\n",
              "      <td>79844.000000</td>\n",
              "    </tr>\n",
              "    <tr>\n",
              "      <th>mean</th>\n",
              "      <td>40.910413</td>\n",
              "      <td>1.151182</td>\n",
              "      <td>0.010683</td>\n",
              "      <td>1534.934021</td>\n",
              "      <td>0.386466</td>\n",
              "      <td>0.096012</td>\n",
              "      <td>15.311871</td>\n",
              "      <td>378.827451</td>\n",
              "      <td>2.352725</td>\n",
              "      <td>52.035181</td>\n",
              "      <td>...</td>\n",
              "      <td>0.072241</td>\n",
              "      <td>0.007665</td>\n",
              "      <td>0.191661</td>\n",
              "      <td>0.053504</td>\n",
              "      <td>0.012136</td>\n",
              "      <td>0.008654</td>\n",
              "      <td>0.026502</td>\n",
              "      <td>0.061570</td>\n",
              "      <td>0.732303</td>\n",
              "      <td>0.500000</td>\n",
              "    </tr>\n",
              "    <tr>\n",
              "      <th>std</th>\n",
              "      <td>10.909694</td>\n",
              "      <td>0.698881</td>\n",
              "      <td>0.102807</td>\n",
              "      <td>3145.825331</td>\n",
              "      <td>0.486943</td>\n",
              "      <td>0.294610</td>\n",
              "      <td>7.822697</td>\n",
              "      <td>349.121374</td>\n",
              "      <td>2.577344</td>\n",
              "      <td>107.100686</td>\n",
              "      <td>...</td>\n",
              "      <td>0.258888</td>\n",
              "      <td>0.087214</td>\n",
              "      <td>0.393610</td>\n",
              "      <td>0.225038</td>\n",
              "      <td>0.109494</td>\n",
              "      <td>0.092626</td>\n",
              "      <td>0.160623</td>\n",
              "      <td>0.240375</td>\n",
              "      <td>0.442762</td>\n",
              "      <td>0.500003</td>\n",
              "    </tr>\n",
              "    <tr>\n",
              "      <th>min</th>\n",
              "      <td>18.000000</td>\n",
              "      <td>0.000000</td>\n",
              "      <td>0.000000</td>\n",
              "      <td>-8019.000000</td>\n",
              "      <td>0.000000</td>\n",
              "      <td>0.000000</td>\n",
              "      <td>1.000000</td>\n",
              "      <td>0.000000</td>\n",
              "      <td>1.000000</td>\n",
              "      <td>0.000000</td>\n",
              "      <td>...</td>\n",
              "      <td>0.000000</td>\n",
              "      <td>0.000000</td>\n",
              "      <td>0.000000</td>\n",
              "      <td>0.000000</td>\n",
              "      <td>0.000000</td>\n",
              "      <td>0.000000</td>\n",
              "      <td>0.000000</td>\n",
              "      <td>0.000000</td>\n",
              "      <td>0.000000</td>\n",
              "      <td>0.000000</td>\n",
              "    </tr>\n",
              "    <tr>\n",
              "      <th>25%</th>\n",
              "      <td>32.000000</td>\n",
              "      <td>1.000000</td>\n",
              "      <td>0.000000</td>\n",
              "      <td>122.000000</td>\n",
              "      <td>0.000000</td>\n",
              "      <td>0.000000</td>\n",
              "      <td>9.000000</td>\n",
              "      <td>145.000000</td>\n",
              "      <td>1.000000</td>\n",
              "      <td>0.000000</td>\n",
              "      <td>...</td>\n",
              "      <td>0.000000</td>\n",
              "      <td>0.000000</td>\n",
              "      <td>0.000000</td>\n",
              "      <td>0.000000</td>\n",
              "      <td>0.000000</td>\n",
              "      <td>0.000000</td>\n",
              "      <td>0.000000</td>\n",
              "      <td>0.000000</td>\n",
              "      <td>0.000000</td>\n",
              "      <td>0.000000</td>\n",
              "    </tr>\n",
              "    <tr>\n",
              "      <th>50%</th>\n",
              "      <td>39.000000</td>\n",
              "      <td>1.000000</td>\n",
              "      <td>0.000000</td>\n",
              "      <td>555.500000</td>\n",
              "      <td>0.000000</td>\n",
              "      <td>0.000000</td>\n",
              "      <td>15.000000</td>\n",
              "      <td>260.000000</td>\n",
              "      <td>2.000000</td>\n",
              "      <td>0.000000</td>\n",
              "      <td>...</td>\n",
              "      <td>0.000000</td>\n",
              "      <td>0.000000</td>\n",
              "      <td>0.000000</td>\n",
              "      <td>0.000000</td>\n",
              "      <td>0.000000</td>\n",
              "      <td>0.000000</td>\n",
              "      <td>0.000000</td>\n",
              "      <td>0.000000</td>\n",
              "      <td>1.000000</td>\n",
              "      <td>0.500000</td>\n",
              "    </tr>\n",
              "    <tr>\n",
              "      <th>75%</th>\n",
              "      <td>48.000000</td>\n",
              "      <td>2.000000</td>\n",
              "      <td>0.000000</td>\n",
              "      <td>1733.000000</td>\n",
              "      <td>1.000000</td>\n",
              "      <td>0.000000</td>\n",
              "      <td>21.000000</td>\n",
              "      <td>506.000000</td>\n",
              "      <td>3.000000</td>\n",
              "      <td>40.000000</td>\n",
              "      <td>...</td>\n",
              "      <td>0.000000</td>\n",
              "      <td>0.000000</td>\n",
              "      <td>0.000000</td>\n",
              "      <td>0.000000</td>\n",
              "      <td>0.000000</td>\n",
              "      <td>0.000000</td>\n",
              "      <td>0.000000</td>\n",
              "      <td>0.000000</td>\n",
              "      <td>1.000000</td>\n",
              "      <td>1.000000</td>\n",
              "    </tr>\n",
              "    <tr>\n",
              "      <th>max</th>\n",
              "      <td>95.000000</td>\n",
              "      <td>3.000000</td>\n",
              "      <td>1.000000</td>\n",
              "      <td>102127.000000</td>\n",
              "      <td>1.000000</td>\n",
              "      <td>1.000000</td>\n",
              "      <td>31.000000</td>\n",
              "      <td>4918.000000</td>\n",
              "      <td>63.000000</td>\n",
              "      <td>871.000000</td>\n",
              "      <td>...</td>\n",
              "      <td>1.000000</td>\n",
              "      <td>1.000000</td>\n",
              "      <td>1.000000</td>\n",
              "      <td>1.000000</td>\n",
              "      <td>1.000000</td>\n",
              "      <td>1.000000</td>\n",
              "      <td>1.000000</td>\n",
              "      <td>1.000000</td>\n",
              "      <td>1.000000</td>\n",
              "      <td>1.000000</td>\n",
              "    </tr>\n",
              "  </tbody>\n",
              "</table>\n",
              "<p>8 rows × 39 columns</p>\n",
              "</div>\n",
              "      <button class=\"colab-df-convert\" onclick=\"convertToInteractive('df-524de963-0117-4741-af1d-1501514a69c8')\"\n",
              "              title=\"Convert this dataframe to an interactive table.\"\n",
              "              style=\"display:none;\">\n",
              "        \n",
              "  <svg xmlns=\"http://www.w3.org/2000/svg\" height=\"24px\"viewBox=\"0 0 24 24\"\n",
              "       width=\"24px\">\n",
              "    <path d=\"M0 0h24v24H0V0z\" fill=\"none\"/>\n",
              "    <path d=\"M18.56 5.44l.94 2.06.94-2.06 2.06-.94-2.06-.94-.94-2.06-.94 2.06-2.06.94zm-11 1L8.5 8.5l.94-2.06 2.06-.94-2.06-.94L8.5 2.5l-.94 2.06-2.06.94zm10 10l.94 2.06.94-2.06 2.06-.94-2.06-.94-.94-2.06-.94 2.06-2.06.94z\"/><path d=\"M17.41 7.96l-1.37-1.37c-.4-.4-.92-.59-1.43-.59-.52 0-1.04.2-1.43.59L10.3 9.45l-7.72 7.72c-.78.78-.78 2.05 0 2.83L4 21.41c.39.39.9.59 1.41.59.51 0 1.02-.2 1.41-.59l7.78-7.78 2.81-2.81c.8-.78.8-2.07 0-2.86zM5.41 20L4 18.59l7.72-7.72 1.47 1.35L5.41 20z\"/>\n",
              "  </svg>\n",
              "      </button>\n",
              "      \n",
              "  <style>\n",
              "    .colab-df-container {\n",
              "      display:flex;\n",
              "      flex-wrap:wrap;\n",
              "      gap: 12px;\n",
              "    }\n",
              "\n",
              "    .colab-df-convert {\n",
              "      background-color: #E8F0FE;\n",
              "      border: none;\n",
              "      border-radius: 50%;\n",
              "      cursor: pointer;\n",
              "      display: none;\n",
              "      fill: #1967D2;\n",
              "      height: 32px;\n",
              "      padding: 0 0 0 0;\n",
              "      width: 32px;\n",
              "    }\n",
              "\n",
              "    .colab-df-convert:hover {\n",
              "      background-color: #E2EBFA;\n",
              "      box-shadow: 0px 1px 2px rgba(60, 64, 67, 0.3), 0px 1px 3px 1px rgba(60, 64, 67, 0.15);\n",
              "      fill: #174EA6;\n",
              "    }\n",
              "\n",
              "    [theme=dark] .colab-df-convert {\n",
              "      background-color: #3B4455;\n",
              "      fill: #D2E3FC;\n",
              "    }\n",
              "\n",
              "    [theme=dark] .colab-df-convert:hover {\n",
              "      background-color: #434B5C;\n",
              "      box-shadow: 0px 1px 3px 1px rgba(0, 0, 0, 0.15);\n",
              "      filter: drop-shadow(0px 1px 2px rgba(0, 0, 0, 0.3));\n",
              "      fill: #FFFFFF;\n",
              "    }\n",
              "  </style>\n",
              "\n",
              "      <script>\n",
              "        const buttonEl =\n",
              "          document.querySelector('#df-524de963-0117-4741-af1d-1501514a69c8 button.colab-df-convert');\n",
              "        buttonEl.style.display =\n",
              "          google.colab.kernel.accessAllowed ? 'block' : 'none';\n",
              "\n",
              "        async function convertToInteractive(key) {\n",
              "          const element = document.querySelector('#df-524de963-0117-4741-af1d-1501514a69c8');\n",
              "          const dataTable =\n",
              "            await google.colab.kernel.invokeFunction('convertToInteractive',\n",
              "                                                     [key], {});\n",
              "          if (!dataTable) return;\n",
              "\n",
              "          const docLinkHtml = 'Like what you see? Visit the ' +\n",
              "            '<a target=\"_blank\" href=https://colab.research.google.com/notebooks/data_table.ipynb>data table notebook</a>'\n",
              "            + ' to learn more about interactive tables.';\n",
              "          element.innerHTML = '';\n",
              "          dataTable['output_type'] = 'display_data';\n",
              "          await google.colab.output.renderOutput(dataTable, element);\n",
              "          const docLink = document.createElement('div');\n",
              "          docLink.innerHTML = docLinkHtml;\n",
              "          element.appendChild(docLink);\n",
              "        }\n",
              "      </script>\n",
              "    </div>\n",
              "  </div>\n",
              "  "
            ]
          },
          "metadata": {},
          "execution_count": 28
        }
      ]
    },
    {
      "cell_type": "code",
      "source": [
        "X= bank_df.drop(columns='target')\n",
        "Y= bank_df['target']"
      ],
      "metadata": {
        "id": "AXcpGLS7RM0D"
      },
      "execution_count": null,
      "outputs": []
    },
    {
      "cell_type": "code",
      "source": [
        "X.shape, Y.shape"
      ],
      "metadata": {
        "colab": {
          "base_uri": "https://localhost:8080/"
        },
        "id": "vmZofaAYxqhJ",
        "outputId": "b9acce98-2f93-42a5-bb1e-466461167920"
      },
      "execution_count": null,
      "outputs": [
        {
          "output_type": "execute_result",
          "data": {
            "text/plain": [
              "((79844, 38), (79844,))"
            ]
          },
          "metadata": {},
          "execution_count": 30
        }
      ]
    },
    {
      "cell_type": "code",
      "source": [
        "from sklearn.model_selection import train_test_split\n",
        "X_train, X_test, y_train, y_test= train_test_split(X,Y,test_size=0.3)"
      ],
      "metadata": {
        "id": "absJ6lsZO-Zx"
      },
      "execution_count": null,
      "outputs": []
    },
    {
      "cell_type": "code",
      "source": [
        "X_train.shape, y_train.shape"
      ],
      "metadata": {
        "colab": {
          "base_uri": "https://localhost:8080/"
        },
        "id": "IFatYZpxx8Xl",
        "outputId": "ef372d44-f315-4de2-cb06-317911372994"
      },
      "execution_count": null,
      "outputs": [
        {
          "output_type": "execute_result",
          "data": {
            "text/plain": [
              "((55890, 38), (55890,))"
            ]
          },
          "metadata": {},
          "execution_count": 32
        }
      ]
    },
    {
      "cell_type": "code",
      "source": [
        "from sklearn.preprocessing import StandardScaler\n",
        "ss= StandardScaler()\n",
        "\n",
        "X_train= ss.fit_transform(X_train)\n",
        "X_test= ss.fit_transform(X_test)"
      ],
      "metadata": {
        "id": "DAfL5-CaSDg4"
      },
      "execution_count": null,
      "outputs": []
    },
    {
      "cell_type": "code",
      "source": [
        "X_train.shape, y_train.shape"
      ],
      "metadata": {
        "colab": {
          "base_uri": "https://localhost:8080/"
        },
        "id": "wLFmngCfSlhd",
        "outputId": "b1a88be5-d503-4ae9-d645-79aa8ca81519"
      },
      "execution_count": null,
      "outputs": [
        {
          "output_type": "execute_result",
          "data": {
            "text/plain": [
              "((55890, 38), (55890,))"
            ]
          },
          "metadata": {},
          "execution_count": 34
        }
      ]
    },
    {
      "cell_type": "markdown",
      "source": [
        "# **ANN**"
      ],
      "metadata": {
        "id": "emnC0TpfSf5k"
      }
    },
    {
      "cell_type": "code",
      "source": [
        "import tensorflow as tf\n",
        "from tensorflow import keras\n",
        "from tensorflow.keras.layers import Dense\n",
        "\n",
        "model= tf.keras.Sequential()"
      ],
      "metadata": {
        "id": "qSJ9SEDmS1Ml"
      },
      "execution_count": null,
      "outputs": []
    },
    {
      "cell_type": "code",
      "source": [
        "'''model.add(Dense(units=X_train.shape[1], kernel_initializer='uniform', activation='relu'))\n",
        "model.add(Dense(units=32, kernel_initializer='uniform', activation='relu'))\n",
        "model.add(Dense(units=64, kernel_initializer='uniform', activation='relu'))\n",
        "model.add(Dense(units=128, kernel_initializer='uniform', activation='relu'))\n",
        "model.add(Dense(units=128, kernel_initializer='uniform', activation='relu'))\n",
        "model.add(Dense(units=1, kernel_initializer='uniform', activation='sigmoid'))'''"
      ],
      "metadata": {
        "id": "L8uCHuxNVB5J",
        "colab": {
          "base_uri": "https://localhost:8080/"
        },
        "outputId": "da2ec8a1-2551-4c01-db70-e6ec20699d44"
      },
      "execution_count": null,
      "outputs": [
        {
          "output_type": "execute_result",
          "data": {
            "text/plain": [
              "\"model.add(Dense(units=X_train.shape[1], kernel_initializer='uniform', activation='relu'))\\nmodel.add(Dense(units=32, kernel_initializer='uniform', activation='relu'))\\nmodel.add(Dense(units=64, kernel_initializer='uniform', activation='relu'))\\nmodel.add(Dense(units=128, kernel_initializer='uniform', activation='relu'))\\nmodel.add(Dense(units=128, kernel_initializer='uniform', activation='relu'))\\nmodel.add(Dense(units=1, kernel_initializer='uniform', activation='sigmoid'))\""
            ],
            "application/vnd.google.colaboratory.intrinsic+json": {
              "type": "string"
            }
          },
          "metadata": {},
          "execution_count": 40
        }
      ]
    },
    {
      "cell_type": "code",
      "source": [
        "X_train.shape[1]"
      ],
      "metadata": {
        "colab": {
          "base_uri": "https://localhost:8080/"
        },
        "id": "cR-sLhGaWOUJ",
        "outputId": "11c004ce-55ef-4718-bbc3-78ef20f042bc"
      },
      "execution_count": null,
      "outputs": [
        {
          "output_type": "execute_result",
          "data": {
            "text/plain": [
              "38"
            ]
          },
          "metadata": {},
          "execution_count": 41
        }
      ]
    },
    {
      "cell_type": "code",
      "source": [
        "model= keras.Sequential([\n",
        "                         keras.layers.Dense(10, input_shape=(X_train.shape[1],),activation='sigmoid'),\n",
        "                         keras.layers.Dense(36,activation='relu'),\n",
        "                         keras.layers.Dense(64,activation='relu'),\n",
        "                         keras.layers.Dense(150,activation='relu'),\n",
        "                         keras.layers.Dense(1,activation='sigmoid')\n",
        "])\n"
      ],
      "metadata": {
        "id": "5QzYBEFgXofX"
      },
      "execution_count": null,
      "outputs": []
    },
    {
      "cell_type": "code",
      "source": [
        "model.compile(optimizer='adam',\n",
        "              loss='BinaryCrossentropy',\n",
        "              metrics=['accuracy']\n",
        ")"
      ],
      "metadata": {
        "id": "qjLEtQ0vSzQY"
      },
      "execution_count": null,
      "outputs": []
    },
    {
      "cell_type": "code",
      "source": [
        "model.layers"
      ],
      "metadata": {
        "colab": {
          "base_uri": "https://localhost:8080/"
        },
        "id": "si5BNkmKY4iP",
        "outputId": "cde96302-1d74-4fd2-8320-47f2cb84e5e1"
      },
      "execution_count": null,
      "outputs": [
        {
          "output_type": "execute_result",
          "data": {
            "text/plain": [
              "[<keras.layers.core.dense.Dense at 0x7f672bc5b510>,\n",
              " <keras.layers.core.dense.Dense at 0x7f672bc32cd0>,\n",
              " <keras.layers.core.dense.Dense at 0x7f672bc9fdd0>,\n",
              " <keras.layers.core.dense.Dense at 0x7f679cc3e9d0>,\n",
              " <keras.layers.core.dense.Dense at 0x7f679cbf8fd0>]"
            ]
          },
          "metadata": {},
          "execution_count": 44
        }
      ]
    },
    {
      "cell_type": "code",
      "source": [
        "model.fit(X_train, y_train, epochs=100, batch_size=32)"
      ],
      "metadata": {
        "colab": {
          "base_uri": "https://localhost:8080/"
        },
        "id": "nzB0Xne2ZFUu",
        "outputId": "256c8942-fb3a-42ae-b195-85e36d68f8a2"
      },
      "execution_count": null,
      "outputs": [
        {
          "output_type": "stream",
          "name": "stdout",
          "text": [
            "Epoch 1/100\n",
            "1747/1747 [==============================] - 5s 2ms/step - loss: 0.2172 - accuracy: 0.9138\n",
            "Epoch 2/100\n",
            "1747/1747 [==============================] - 4s 2ms/step - loss: 0.1846 - accuracy: 0.9214\n",
            "Epoch 3/100\n",
            "1747/1747 [==============================] - 4s 3ms/step - loss: 0.1791 - accuracy: 0.9239\n",
            "Epoch 4/100\n",
            "1747/1747 [==============================] - 4s 3ms/step - loss: 0.1758 - accuracy: 0.9246\n",
            "Epoch 5/100\n",
            "1747/1747 [==============================] - 4s 3ms/step - loss: 0.1737 - accuracy: 0.9265\n",
            "Epoch 6/100\n",
            "1747/1747 [==============================] - 7s 4ms/step - loss: 0.1714 - accuracy: 0.9272\n",
            "Epoch 7/100\n",
            "1747/1747 [==============================] - 4s 2ms/step - loss: 0.1698 - accuracy: 0.9280\n",
            "Epoch 8/100\n",
            "1747/1747 [==============================] - 4s 2ms/step - loss: 0.1688 - accuracy: 0.9279\n",
            "Epoch 9/100\n",
            "1747/1747 [==============================] - 4s 2ms/step - loss: 0.1670 - accuracy: 0.9293\n",
            "Epoch 10/100\n",
            "1747/1747 [==============================] - 4s 2ms/step - loss: 0.1653 - accuracy: 0.9305\n",
            "Epoch 11/100\n",
            "1747/1747 [==============================] - 4s 2ms/step - loss: 0.1645 - accuracy: 0.9302\n",
            "Epoch 12/100\n",
            "1747/1747 [==============================] - 4s 2ms/step - loss: 0.1637 - accuracy: 0.9305\n",
            "Epoch 13/100\n",
            "1747/1747 [==============================] - 4s 2ms/step - loss: 0.1627 - accuracy: 0.9309\n",
            "Epoch 14/100\n",
            "1747/1747 [==============================] - 6s 3ms/step - loss: 0.1620 - accuracy: 0.9317\n",
            "Epoch 15/100\n",
            "1747/1747 [==============================] - 4s 2ms/step - loss: 0.1610 - accuracy: 0.9316\n",
            "Epoch 16/100\n",
            "1747/1747 [==============================] - 4s 2ms/step - loss: 0.1604 - accuracy: 0.9324\n",
            "Epoch 17/100\n",
            "1747/1747 [==============================] - 4s 3ms/step - loss: 0.1593 - accuracy: 0.9321\n",
            "Epoch 18/100\n",
            "1747/1747 [==============================] - 4s 3ms/step - loss: 0.1587 - accuracy: 0.9330\n",
            "Epoch 19/100\n",
            "1747/1747 [==============================] - 4s 3ms/step - loss: 0.1575 - accuracy: 0.9338\n",
            "Epoch 20/100\n",
            "1747/1747 [==============================] - 4s 3ms/step - loss: 0.1570 - accuracy: 0.9339\n",
            "Epoch 21/100\n",
            "1747/1747 [==============================] - 4s 2ms/step - loss: 0.1562 - accuracy: 0.9347\n",
            "Epoch 22/100\n",
            "1747/1747 [==============================] - 4s 2ms/step - loss: 0.1560 - accuracy: 0.9344\n",
            "Epoch 23/100\n",
            "1747/1747 [==============================] - 4s 2ms/step - loss: 0.1545 - accuracy: 0.9350\n",
            "Epoch 24/100\n",
            "1747/1747 [==============================] - 4s 3ms/step - loss: 0.1546 - accuracy: 0.9349\n",
            "Epoch 25/100\n",
            "1747/1747 [==============================] - 4s 3ms/step - loss: 0.1537 - accuracy: 0.9350\n",
            "Epoch 26/100\n",
            "1747/1747 [==============================] - 4s 3ms/step - loss: 0.1533 - accuracy: 0.9358\n",
            "Epoch 27/100\n",
            "1747/1747 [==============================] - 4s 2ms/step - loss: 0.1525 - accuracy: 0.9364\n",
            "Epoch 28/100\n",
            "1747/1747 [==============================] - 4s 2ms/step - loss: 0.1521 - accuracy: 0.9362\n",
            "Epoch 29/100\n",
            "1747/1747 [==============================] - 4s 2ms/step - loss: 0.1513 - accuracy: 0.9367\n",
            "Epoch 30/100\n",
            "1747/1747 [==============================] - 4s 2ms/step - loss: 0.1507 - accuracy: 0.9361\n",
            "Epoch 31/100\n",
            "1747/1747 [==============================] - 5s 3ms/step - loss: 0.1501 - accuracy: 0.9367\n",
            "Epoch 32/100\n",
            "1747/1747 [==============================] - 4s 3ms/step - loss: 0.1501 - accuracy: 0.9370\n",
            "Epoch 33/100\n",
            "1747/1747 [==============================] - 5s 3ms/step - loss: 0.1491 - accuracy: 0.9377\n",
            "Epoch 34/100\n",
            "1747/1747 [==============================] - 4s 3ms/step - loss: 0.1485 - accuracy: 0.9388\n",
            "Epoch 35/100\n",
            "1747/1747 [==============================] - 4s 2ms/step - loss: 0.1482 - accuracy: 0.9378\n",
            "Epoch 36/100\n",
            "1747/1747 [==============================] - 4s 2ms/step - loss: 0.1474 - accuracy: 0.9386\n",
            "Epoch 37/100\n",
            "1747/1747 [==============================] - 4s 2ms/step - loss: 0.1470 - accuracy: 0.9387\n",
            "Epoch 38/100\n",
            "1747/1747 [==============================] - 5s 3ms/step - loss: 0.1460 - accuracy: 0.9393\n",
            "Epoch 39/100\n",
            "1747/1747 [==============================] - 4s 2ms/step - loss: 0.1459 - accuracy: 0.9396\n",
            "Epoch 40/100\n",
            "1747/1747 [==============================] - 4s 3ms/step - loss: 0.1454 - accuracy: 0.9392\n",
            "Epoch 41/100\n",
            "1747/1747 [==============================] - 4s 3ms/step - loss: 0.1445 - accuracy: 0.9393\n",
            "Epoch 42/100\n",
            "1747/1747 [==============================] - 4s 2ms/step - loss: 0.1446 - accuracy: 0.9401\n",
            "Epoch 43/100\n",
            "1747/1747 [==============================] - 4s 2ms/step - loss: 0.1437 - accuracy: 0.9405\n",
            "Epoch 44/100\n",
            "1747/1747 [==============================] - 4s 2ms/step - loss: 0.1431 - accuracy: 0.9400\n",
            "Epoch 45/100\n",
            "1747/1747 [==============================] - 5s 3ms/step - loss: 0.1429 - accuracy: 0.9403\n",
            "Epoch 46/100\n",
            "1747/1747 [==============================] - 4s 2ms/step - loss: 0.1426 - accuracy: 0.9403\n",
            "Epoch 47/100\n",
            "1747/1747 [==============================] - 4s 2ms/step - loss: 0.1414 - accuracy: 0.9413\n",
            "Epoch 48/100\n",
            "1747/1747 [==============================] - 4s 2ms/step - loss: 0.1418 - accuracy: 0.9407\n",
            "Epoch 49/100\n",
            "1747/1747 [==============================] - 4s 2ms/step - loss: 0.1403 - accuracy: 0.9413\n",
            "Epoch 50/100\n",
            "1747/1747 [==============================] - 4s 2ms/step - loss: 0.1402 - accuracy: 0.9417\n",
            "Epoch 51/100\n",
            "1747/1747 [==============================] - 4s 2ms/step - loss: 0.1392 - accuracy: 0.9424\n",
            "Epoch 52/100\n",
            "1747/1747 [==============================] - 4s 3ms/step - loss: 0.1387 - accuracy: 0.9424\n",
            "Epoch 53/100\n",
            "1747/1747 [==============================] - 4s 2ms/step - loss: 0.1389 - accuracy: 0.9420\n",
            "Epoch 54/100\n",
            "1747/1747 [==============================] - 4s 2ms/step - loss: 0.1380 - accuracy: 0.9432\n",
            "Epoch 55/100\n",
            "1747/1747 [==============================] - 4s 2ms/step - loss: 0.1371 - accuracy: 0.9430\n",
            "Epoch 56/100\n",
            "1747/1747 [==============================] - 4s 2ms/step - loss: 0.1367 - accuracy: 0.9434\n",
            "Epoch 57/100\n",
            "1747/1747 [==============================] - 4s 2ms/step - loss: 0.1367 - accuracy: 0.9432\n",
            "Epoch 58/100\n",
            "1747/1747 [==============================] - 4s 2ms/step - loss: 0.1362 - accuracy: 0.9435\n",
            "Epoch 59/100\n",
            "1747/1747 [==============================] - 4s 2ms/step - loss: 0.1349 - accuracy: 0.9449\n",
            "Epoch 60/100\n",
            "1747/1747 [==============================] - 5s 3ms/step - loss: 0.1346 - accuracy: 0.9446\n",
            "Epoch 61/100\n",
            "1747/1747 [==============================] - 4s 2ms/step - loss: 0.1336 - accuracy: 0.9444\n",
            "Epoch 62/100\n",
            "1747/1747 [==============================] - 4s 2ms/step - loss: 0.1341 - accuracy: 0.9445\n",
            "Epoch 63/100\n",
            "1747/1747 [==============================] - 4s 2ms/step - loss: 0.1338 - accuracy: 0.9446\n",
            "Epoch 64/100\n",
            "1747/1747 [==============================] - 4s 2ms/step - loss: 0.1322 - accuracy: 0.9447\n",
            "Epoch 65/100\n",
            "1747/1747 [==============================] - 4s 2ms/step - loss: 0.1314 - accuracy: 0.9460\n",
            "Epoch 66/100\n",
            "1747/1747 [==============================] - 4s 3ms/step - loss: 0.1315 - accuracy: 0.9456\n",
            "Epoch 67/100\n",
            "1747/1747 [==============================] - 4s 2ms/step - loss: 0.1307 - accuracy: 0.9454\n",
            "Epoch 68/100\n",
            "1747/1747 [==============================] - 4s 3ms/step - loss: 0.1306 - accuracy: 0.9458\n",
            "Epoch 69/100\n",
            "1747/1747 [==============================] - 4s 2ms/step - loss: 0.1294 - accuracy: 0.9467\n",
            "Epoch 70/100\n",
            "1747/1747 [==============================] - 4s 2ms/step - loss: 0.1296 - accuracy: 0.9465\n",
            "Epoch 71/100\n",
            "1747/1747 [==============================] - 4s 2ms/step - loss: 0.1291 - accuracy: 0.9469\n",
            "Epoch 72/100\n",
            "1747/1747 [==============================] - 4s 2ms/step - loss: 0.1275 - accuracy: 0.9470\n",
            "Epoch 73/100\n",
            "1747/1747 [==============================] - 4s 3ms/step - loss: 0.1283 - accuracy: 0.9467\n",
            "Epoch 74/100\n",
            "1747/1747 [==============================] - 4s 2ms/step - loss: 0.1266 - accuracy: 0.9476\n",
            "Epoch 75/100\n",
            "1747/1747 [==============================] - 4s 2ms/step - loss: 0.1262 - accuracy: 0.9478\n",
            "Epoch 76/100\n",
            "1747/1747 [==============================] - 4s 2ms/step - loss: 0.1255 - accuracy: 0.9484\n",
            "Epoch 77/100\n",
            "1747/1747 [==============================] - 4s 2ms/step - loss: 0.1249 - accuracy: 0.9489\n",
            "Epoch 78/100\n",
            "1747/1747 [==============================] - 4s 2ms/step - loss: 0.1242 - accuracy: 0.9483\n",
            "Epoch 79/100\n",
            "1747/1747 [==============================] - 4s 2ms/step - loss: 0.1236 - accuracy: 0.9488\n",
            "Epoch 80/100\n",
            "1747/1747 [==============================] - 5s 3ms/step - loss: 0.1230 - accuracy: 0.9492\n",
            "Epoch 81/100\n",
            "1747/1747 [==============================] - 5s 3ms/step - loss: 0.1223 - accuracy: 0.9496\n",
            "Epoch 82/100\n",
            "1747/1747 [==============================] - 5s 3ms/step - loss: 0.1219 - accuracy: 0.9499\n",
            "Epoch 83/100\n",
            "1747/1747 [==============================] - 5s 3ms/step - loss: 0.1208 - accuracy: 0.9499\n",
            "Epoch 84/100\n",
            "1747/1747 [==============================] - 4s 2ms/step - loss: 0.1207 - accuracy: 0.9506\n",
            "Epoch 85/100\n",
            "1747/1747 [==============================] - 4s 2ms/step - loss: 0.1200 - accuracy: 0.9506\n",
            "Epoch 86/100\n",
            "1747/1747 [==============================] - 4s 3ms/step - loss: 0.1192 - accuracy: 0.9509\n",
            "Epoch 87/100\n",
            "1747/1747 [==============================] - 4s 3ms/step - loss: 0.1194 - accuracy: 0.9508\n",
            "Epoch 88/100\n",
            "1747/1747 [==============================] - 4s 3ms/step - loss: 0.1185 - accuracy: 0.9510\n",
            "Epoch 89/100\n",
            "1747/1747 [==============================] - 4s 3ms/step - loss: 0.1180 - accuracy: 0.9504\n",
            "Epoch 90/100\n",
            "1747/1747 [==============================] - 4s 2ms/step - loss: 0.1174 - accuracy: 0.9523\n",
            "Epoch 91/100\n",
            "1747/1747 [==============================] - 4s 2ms/step - loss: 0.1162 - accuracy: 0.9515\n",
            "Epoch 92/100\n",
            "1747/1747 [==============================] - 4s 2ms/step - loss: 0.1165 - accuracy: 0.9519\n",
            "Epoch 93/100\n",
            "1747/1747 [==============================] - 4s 3ms/step - loss: 0.1151 - accuracy: 0.9519\n",
            "Epoch 94/100\n",
            "1747/1747 [==============================] - 5s 3ms/step - loss: 0.1149 - accuracy: 0.9522\n",
            "Epoch 95/100\n",
            "1747/1747 [==============================] - 4s 3ms/step - loss: 0.1140 - accuracy: 0.9534\n",
            "Epoch 96/100\n",
            "1747/1747 [==============================] - 4s 2ms/step - loss: 0.1134 - accuracy: 0.9541\n",
            "Epoch 97/100\n",
            "1747/1747 [==============================] - 4s 2ms/step - loss: 0.1134 - accuracy: 0.9531\n",
            "Epoch 98/100\n",
            "1747/1747 [==============================] - 4s 2ms/step - loss: 0.1129 - accuracy: 0.9529\n",
            "Epoch 99/100\n",
            "1747/1747 [==============================] - 4s 2ms/step - loss: 0.1115 - accuracy: 0.9543\n",
            "Epoch 100/100\n",
            "1747/1747 [==============================] - 4s 3ms/step - loss: 0.1114 - accuracy: 0.9538\n"
          ]
        },
        {
          "output_type": "execute_result",
          "data": {
            "text/plain": [
              "<keras.callbacks.History at 0x7f6727e60950>"
            ]
          },
          "metadata": {},
          "execution_count": 45
        }
      ]
    },
    {
      "cell_type": "code",
      "source": [
        "model.evaluate(X_test,y_test)"
      ],
      "metadata": {
        "colab": {
          "base_uri": "https://localhost:8080/"
        },
        "id": "9SaM1_4bqCdY",
        "outputId": "14b95693-6b26-48e2-ba2b-f83ec092cb95"
      },
      "execution_count": null,
      "outputs": [
        {
          "output_type": "stream",
          "name": "stdout",
          "text": [
            "749/749 [==============================] - 1s 2ms/step - loss: 0.2000 - accuracy: 0.9290\n"
          ]
        },
        {
          "output_type": "execute_result",
          "data": {
            "text/plain": [
              "[0.19995847344398499, 0.9289888739585876]"
            ]
          },
          "metadata": {},
          "execution_count": 46
        }
      ]
    },
    {
      "cell_type": "code",
      "source": [
        "y_predict= model.predict(X_test)\n",
        "y_predict"
      ],
      "metadata": {
        "id": "g31PY_-trGfS",
        "colab": {
          "base_uri": "https://localhost:8080/"
        },
        "outputId": "3189b17f-ed28-4fcd-eaf4-90d392307b27"
      },
      "execution_count": null,
      "outputs": [
        {
          "output_type": "execute_result",
          "data": {
            "text/plain": [
              "array([[3.4093521e-08],\n",
              "       [1.0000000e+00],\n",
              "       [1.5003949e-02],\n",
              "       ...,\n",
              "       [3.4502149e-04],\n",
              "       [9.8815089e-01],\n",
              "       [1.4349818e-04]], dtype=float32)"
            ]
          },
          "metadata": {},
          "execution_count": 47
        }
      ]
    },
    {
      "cell_type": "code",
      "source": [
        "y_predict.astype(int).shape"
      ],
      "metadata": {
        "colab": {
          "base_uri": "https://localhost:8080/"
        },
        "id": "jPwpeA3JrWol",
        "outputId": "11420f2c-bdbc-40bc-81af-0dd1fc7d4e3d"
      },
      "execution_count": null,
      "outputs": [
        {
          "output_type": "execute_result",
          "data": {
            "text/plain": [
              "(23954, 1)"
            ]
          },
          "metadata": {},
          "execution_count": 48
        }
      ]
    },
    {
      "cell_type": "code",
      "source": [
        "a= y_predict>.5\n",
        "a.astype(int)"
      ],
      "metadata": {
        "colab": {
          "base_uri": "https://localhost:8080/"
        },
        "id": "UwPVEOzSrkdv",
        "outputId": "904b5b8e-52f0-4b6f-c5a6-1473246251e0"
      },
      "execution_count": null,
      "outputs": [
        {
          "output_type": "execute_result",
          "data": {
            "text/plain": [
              "array([[0],\n",
              "       [1],\n",
              "       [0],\n",
              "       ...,\n",
              "       [0],\n",
              "       [1],\n",
              "       [0]])"
            ]
          },
          "metadata": {},
          "execution_count": 49
        }
      ]
    },
    {
      "cell_type": "code",
      "source": [
        "a.shape"
      ],
      "metadata": {
        "colab": {
          "base_uri": "https://localhost:8080/"
        },
        "id": "V_AZRFKHVQgX",
        "outputId": "2f00faa4-1d39-432a-8c10-c0151dbd849d"
      },
      "execution_count": null,
      "outputs": [
        {
          "output_type": "execute_result",
          "data": {
            "text/plain": [
              "(23954, 1)"
            ]
          },
          "metadata": {},
          "execution_count": 50
        }
      ]
    },
    {
      "cell_type": "code",
      "source": [
        "from sklearn.metrics import accuracy_score\n",
        "accuracy_score(y_test, a)"
      ],
      "metadata": {
        "colab": {
          "base_uri": "https://localhost:8080/"
        },
        "id": "oTRBWjcDu1wv",
        "outputId": "b5bc6b52-304b-4798-f65d-e9f31cf9d1fd"
      },
      "execution_count": null,
      "outputs": [
        {
          "output_type": "execute_result",
          "data": {
            "text/plain": [
              "0.928988895382817"
            ]
          },
          "metadata": {},
          "execution_count": 51
        }
      ]
    },
    {
      "cell_type": "markdown",
      "source": [
        "# **Machine learning model**"
      ],
      "metadata": {
        "id": "JJU81cY0ZVEL"
      }
    },
    {
      "cell_type": "code",
      "source": [
        "from sklearn.ensemble import AdaBoostClassifier, BaggingClassifier, GradientBoostingClassifier\n",
        "from xgboost import XGBClassifier\n",
        "from sklearn.metrics import accuracy_score\n",
        "\n",
        "ada= AdaBoostClassifier()\n",
        "bc= BaggingClassifier()\n",
        "gbc= GradientBoostingClassifier()\n",
        "xgb= XGBClassifier()"
      ],
      "metadata": {
        "id": "IqOEniHCZTDh"
      },
      "execution_count": null,
      "outputs": []
    },
    {
      "cell_type": "code",
      "source": [
        "ml_model= [ada, bc, gbc, gbc, xgb]"
      ],
      "metadata": {
        "id": "WSXJSSpuYESM"
      },
      "execution_count": null,
      "outputs": []
    },
    {
      "cell_type": "code",
      "source": [
        "ada.fit(X_train, y_train), bc.fit(X_train, y_train), gbc.fit(X_train, y_train), xgb.fit(X_train, y_train)"
      ],
      "metadata": {
        "id": "f8G3MM5ran0L",
        "colab": {
          "base_uri": "https://localhost:8080/"
        },
        "outputId": "e1a8e7f9-878a-4d8e-fbcf-22b5a0d2a99c"
      },
      "execution_count": null,
      "outputs": [
        {
          "output_type": "execute_result",
          "data": {
            "text/plain": [
              "(AdaBoostClassifier(),\n",
              " BaggingClassifier(),\n",
              " GradientBoostingClassifier(),\n",
              " XGBClassifier())"
            ]
          },
          "metadata": {},
          "execution_count": 37
        }
      ]
    },
    {
      "cell_type": "code",
      "source": [
        "for i in ml_model:\n",
        "  ml_pred= i.predict(X_test)\n",
        "  y=accuracy_score(y_test,ml_pred)\n",
        "  print(\"%s has accuracy of %f\"%(i, accuracy_score(y_test,ml_pred)))\n"
      ],
      "metadata": {
        "colab": {
          "base_uri": "https://localhost:8080/"
        },
        "id": "KwbSgWEo__86",
        "outputId": "f46de6ca-d6cd-4bb1-b63a-9626927e60f5"
      },
      "execution_count": null,
      "outputs": [
        {
          "output_type": "stream",
          "name": "stdout",
          "text": [
            "AdaBoostClassifier() has accuracy of 0.920807\n",
            "BaggingClassifier() has accuracy of 0.930951\n",
            "GradientBoostingClassifier() has accuracy of 0.925649\n",
            "GradientBoostingClassifier() has accuracy of 0.925649\n",
            "XGBClassifier() has accuracy of 0.926526\n"
          ]
        }
      ]
    }
  ]
}